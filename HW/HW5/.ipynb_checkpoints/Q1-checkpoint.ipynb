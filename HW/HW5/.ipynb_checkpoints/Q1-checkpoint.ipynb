{
 "cells": [
  {
   "cell_type": "markdown",
   "metadata": {},
   "source": [
    "# 1 user cases and commands\n",
    "1. find the largest element in some coloumn\n",
    "\n",
    "   find_max()\n",
    "2. calculate the mean of some column\n",
    "\n",
    "   fine_mean()\n",
    "3. compare the average of some column among different usertype\n",
    "\n",
    "   cmp_annual_short()\n",
    "4. plot trip duration vs start time for certain start station\n",
    "\n",
    "   plot_duration_start()\n",
    "5. plot trip start time vs member birthyear for certain user type\n",
    "\n",
    "   plot_start_birth"
   ]
  }
 ],
 "metadata": {
  "kernelspec": {
   "display_name": "Python 3",
   "language": "python",
   "name": "python3"
  },
  "language_info": {
   "codemirror_mode": {
    "name": "ipython",
    "version": 3
   },
   "file_extension": ".py",
   "mimetype": "text/x-python",
   "name": "python",
   "nbconvert_exporter": "python",
   "pygments_lexer": "ipython3",
   "version": "3.5.1"
  }
 },
 "nbformat": 4,
 "nbformat_minor": 0
}
