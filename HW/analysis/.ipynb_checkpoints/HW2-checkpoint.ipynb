{
 "cells": [
  {
   "cell_type": "code",
   "execution_count": 32,
   "metadata": {
    "collapsed": true
   },
   "outputs": [],
   "source": [
    "import pandas as pd"
   ]
  },
  {
   "cell_type": "code",
   "execution_count": 33,
   "metadata": {
    "collapsed": true
   },
   "outputs": [],
   "source": [
    "we=pd.read_csv('../data/weather_data.csv')"
   ]
  },
  {
   "cell_type": "code",
   "execution_count": 34,
   "metadata": {
    "collapsed": false
   },
   "outputs": [],
   "source": [
    "we=pd.read_csv('../data/weather_data.csv', parse_dates=[2])"
   ]
  },
  {
   "cell_type": "code",
   "execution_count": 35,
   "metadata": {
    "collapsed": false
   },
   "outputs": [
    {
     "data": {
      "text/html": [
       "<div>\n",
       "<table border=\"1\" class=\"dataframe\">\n",
       "  <thead>\n",
       "    <tr style=\"text-align: right;\">\n",
       "      <th></th>\n",
       "      <th>STATION</th>\n",
       "      <th>STATION_NAME</th>\n",
       "      <th>DATE</th>\n",
       "      <th>PRCP</th>\n",
       "      <th>SNWD</th>\n",
       "      <th>SNOW</th>\n",
       "      <th>TMAX</th>\n",
       "      <th>TMIN</th>\n",
       "      <th>AWND</th>\n",
       "      <th>WDF2</th>\n",
       "      <th>...</th>\n",
       "      <th>WT01</th>\n",
       "      <th>WT05</th>\n",
       "      <th>WT02</th>\n",
       "      <th>WT22</th>\n",
       "      <th>WT04</th>\n",
       "      <th>WT13</th>\n",
       "      <th>WT16</th>\n",
       "      <th>WT08</th>\n",
       "      <th>WT18</th>\n",
       "      <th>WT03</th>\n",
       "    </tr>\n",
       "  </thead>\n",
       "  <tbody>\n",
       "    <tr>\n",
       "      <th>0</th>\n",
       "      <td>GHCND:USW00024233</td>\n",
       "      <td>SEATTLE TACOMA INTERNATIONAL AIRPORT WA US</td>\n",
       "      <td>2012-10-01</td>\n",
       "      <td>0</td>\n",
       "      <td>0</td>\n",
       "      <td>0</td>\n",
       "      <td>233</td>\n",
       "      <td>89</td>\n",
       "      <td>30</td>\n",
       "      <td>40</td>\n",
       "      <td>...</td>\n",
       "      <td>-9999</td>\n",
       "      <td>-9999</td>\n",
       "      <td>-9999</td>\n",
       "      <td>-9999</td>\n",
       "      <td>-9999</td>\n",
       "      <td>-9999</td>\n",
       "      <td>-9999</td>\n",
       "      <td>-9999</td>\n",
       "      <td>-9999</td>\n",
       "      <td>-9999</td>\n",
       "    </tr>\n",
       "    <tr>\n",
       "      <th>1</th>\n",
       "      <td>GHCND:USW00024233</td>\n",
       "      <td>SEATTLE TACOMA INTERNATIONAL AIRPORT WA US</td>\n",
       "      <td>2012-10-02</td>\n",
       "      <td>0</td>\n",
       "      <td>0</td>\n",
       "      <td>0</td>\n",
       "      <td>178</td>\n",
       "      <td>100</td>\n",
       "      <td>41</td>\n",
       "      <td>10</td>\n",
       "      <td>...</td>\n",
       "      <td>-9999</td>\n",
       "      <td>-9999</td>\n",
       "      <td>-9999</td>\n",
       "      <td>-9999</td>\n",
       "      <td>-9999</td>\n",
       "      <td>-9999</td>\n",
       "      <td>-9999</td>\n",
       "      <td>-9999</td>\n",
       "      <td>-9999</td>\n",
       "      <td>-9999</td>\n",
       "    </tr>\n",
       "    <tr>\n",
       "      <th>2</th>\n",
       "      <td>GHCND:USW00024233</td>\n",
       "      <td>SEATTLE TACOMA INTERNATIONAL AIRPORT WA US</td>\n",
       "      <td>2012-10-03</td>\n",
       "      <td>0</td>\n",
       "      <td>0</td>\n",
       "      <td>0</td>\n",
       "      <td>189</td>\n",
       "      <td>78</td>\n",
       "      <td>73</td>\n",
       "      <td>10</td>\n",
       "      <td>...</td>\n",
       "      <td>-9999</td>\n",
       "      <td>-9999</td>\n",
       "      <td>-9999</td>\n",
       "      <td>-9999</td>\n",
       "      <td>-9999</td>\n",
       "      <td>-9999</td>\n",
       "      <td>-9999</td>\n",
       "      <td>-9999</td>\n",
       "      <td>-9999</td>\n",
       "      <td>-9999</td>\n",
       "    </tr>\n",
       "    <tr>\n",
       "      <th>3</th>\n",
       "      <td>GHCND:USW00024233</td>\n",
       "      <td>SEATTLE TACOMA INTERNATIONAL AIRPORT WA US</td>\n",
       "      <td>2012-10-04</td>\n",
       "      <td>0</td>\n",
       "      <td>0</td>\n",
       "      <td>0</td>\n",
       "      <td>189</td>\n",
       "      <td>83</td>\n",
       "      <td>65</td>\n",
       "      <td>20</td>\n",
       "      <td>...</td>\n",
       "      <td>-9999</td>\n",
       "      <td>-9999</td>\n",
       "      <td>-9999</td>\n",
       "      <td>-9999</td>\n",
       "      <td>-9999</td>\n",
       "      <td>-9999</td>\n",
       "      <td>-9999</td>\n",
       "      <td>-9999</td>\n",
       "      <td>-9999</td>\n",
       "      <td>-9999</td>\n",
       "    </tr>\n",
       "    <tr>\n",
       "      <th>4</th>\n",
       "      <td>GHCND:USW00024233</td>\n",
       "      <td>SEATTLE TACOMA INTERNATIONAL AIRPORT WA US</td>\n",
       "      <td>2012-10-05</td>\n",
       "      <td>0</td>\n",
       "      <td>0</td>\n",
       "      <td>0</td>\n",
       "      <td>217</td>\n",
       "      <td>89</td>\n",
       "      <td>57</td>\n",
       "      <td>360</td>\n",
       "      <td>...</td>\n",
       "      <td>-9999</td>\n",
       "      <td>-9999</td>\n",
       "      <td>-9999</td>\n",
       "      <td>-9999</td>\n",
       "      <td>-9999</td>\n",
       "      <td>-9999</td>\n",
       "      <td>-9999</td>\n",
       "      <td>-9999</td>\n",
       "      <td>-9999</td>\n",
       "      <td>-9999</td>\n",
       "    </tr>\n",
       "  </tbody>\n",
       "</table>\n",
       "<p>5 rows × 24 columns</p>\n",
       "</div>"
      ],
      "text/plain": [
       "             STATION                                STATION_NAME       DATE  \\\n",
       "0  GHCND:USW00024233  SEATTLE TACOMA INTERNATIONAL AIRPORT WA US 2012-10-01   \n",
       "1  GHCND:USW00024233  SEATTLE TACOMA INTERNATIONAL AIRPORT WA US 2012-10-02   \n",
       "2  GHCND:USW00024233  SEATTLE TACOMA INTERNATIONAL AIRPORT WA US 2012-10-03   \n",
       "3  GHCND:USW00024233  SEATTLE TACOMA INTERNATIONAL AIRPORT WA US 2012-10-04   \n",
       "4  GHCND:USW00024233  SEATTLE TACOMA INTERNATIONAL AIRPORT WA US 2012-10-05   \n",
       "\n",
       "   PRCP  SNWD  SNOW  TMAX  TMIN  AWND  WDF2  ...   WT01  WT05  WT02  WT22  \\\n",
       "0     0     0     0   233    89    30    40  ...  -9999 -9999 -9999 -9999   \n",
       "1     0     0     0   178   100    41    10  ...  -9999 -9999 -9999 -9999   \n",
       "2     0     0     0   189    78    73    10  ...  -9999 -9999 -9999 -9999   \n",
       "3     0     0     0   189    83    65    20  ...  -9999 -9999 -9999 -9999   \n",
       "4     0     0     0   217    89    57   360  ...  -9999 -9999 -9999 -9999   \n",
       "\n",
       "   WT04  WT13  WT16  WT08  WT18  WT03  \n",
       "0 -9999 -9999 -9999 -9999 -9999 -9999  \n",
       "1 -9999 -9999 -9999 -9999 -9999 -9999  \n",
       "2 -9999 -9999 -9999 -9999 -9999 -9999  \n",
       "3 -9999 -9999 -9999 -9999 -9999 -9999  \n",
       "4 -9999 -9999 -9999 -9999 -9999 -9999  \n",
       "\n",
       "[5 rows x 24 columns]"
      ]
     },
     "execution_count": 35,
     "metadata": {},
     "output_type": "execute_result"
    }
   ],
   "source": [
    "we.head()"
   ]
  },
  {
   "cell_type": "code",
   "execution_count": 36,
   "metadata": {
    "collapsed": false
   },
   "outputs": [],
   "source": [
    "we=we.set_index('DATE')"
   ]
  },
  {
   "cell_type": "code",
   "execution_count": 37,
   "metadata": {
    "collapsed": false
   },
   "outputs": [
    {
     "data": {
      "text/html": [
       "<div>\n",
       "<table border=\"1\" class=\"dataframe\">\n",
       "  <thead>\n",
       "    <tr style=\"text-align: right;\">\n",
       "      <th></th>\n",
       "      <th>STATION</th>\n",
       "      <th>STATION_NAME</th>\n",
       "      <th>PRCP</th>\n",
       "      <th>SNWD</th>\n",
       "      <th>SNOW</th>\n",
       "      <th>TMAX</th>\n",
       "      <th>TMIN</th>\n",
       "      <th>AWND</th>\n",
       "      <th>WDF2</th>\n",
       "      <th>WDF5</th>\n",
       "      <th>...</th>\n",
       "      <th>WT01</th>\n",
       "      <th>WT05</th>\n",
       "      <th>WT02</th>\n",
       "      <th>WT22</th>\n",
       "      <th>WT04</th>\n",
       "      <th>WT13</th>\n",
       "      <th>WT16</th>\n",
       "      <th>WT08</th>\n",
       "      <th>WT18</th>\n",
       "      <th>WT03</th>\n",
       "    </tr>\n",
       "    <tr>\n",
       "      <th>DATE</th>\n",
       "      <th></th>\n",
       "      <th></th>\n",
       "      <th></th>\n",
       "      <th></th>\n",
       "      <th></th>\n",
       "      <th></th>\n",
       "      <th></th>\n",
       "      <th></th>\n",
       "      <th></th>\n",
       "      <th></th>\n",
       "      <th></th>\n",
       "      <th></th>\n",
       "      <th></th>\n",
       "      <th></th>\n",
       "      <th></th>\n",
       "      <th></th>\n",
       "      <th></th>\n",
       "      <th></th>\n",
       "      <th></th>\n",
       "      <th></th>\n",
       "      <th></th>\n",
       "    </tr>\n",
       "  </thead>\n",
       "  <tbody>\n",
       "    <tr>\n",
       "      <th>2012-10-01</th>\n",
       "      <td>GHCND:USW00024233</td>\n",
       "      <td>SEATTLE TACOMA INTERNATIONAL AIRPORT WA US</td>\n",
       "      <td>0</td>\n",
       "      <td>0</td>\n",
       "      <td>0</td>\n",
       "      <td>233</td>\n",
       "      <td>89</td>\n",
       "      <td>30</td>\n",
       "      <td>40</td>\n",
       "      <td>30</td>\n",
       "      <td>...</td>\n",
       "      <td>-9999</td>\n",
       "      <td>-9999</td>\n",
       "      <td>-9999</td>\n",
       "      <td>-9999</td>\n",
       "      <td>-9999</td>\n",
       "      <td>-9999</td>\n",
       "      <td>-9999</td>\n",
       "      <td>-9999</td>\n",
       "      <td>-9999</td>\n",
       "      <td>-9999</td>\n",
       "    </tr>\n",
       "    <tr>\n",
       "      <th>2012-10-02</th>\n",
       "      <td>GHCND:USW00024233</td>\n",
       "      <td>SEATTLE TACOMA INTERNATIONAL AIRPORT WA US</td>\n",
       "      <td>0</td>\n",
       "      <td>0</td>\n",
       "      <td>0</td>\n",
       "      <td>178</td>\n",
       "      <td>100</td>\n",
       "      <td>41</td>\n",
       "      <td>10</td>\n",
       "      <td>20</td>\n",
       "      <td>...</td>\n",
       "      <td>-9999</td>\n",
       "      <td>-9999</td>\n",
       "      <td>-9999</td>\n",
       "      <td>-9999</td>\n",
       "      <td>-9999</td>\n",
       "      <td>-9999</td>\n",
       "      <td>-9999</td>\n",
       "      <td>-9999</td>\n",
       "      <td>-9999</td>\n",
       "      <td>-9999</td>\n",
       "    </tr>\n",
       "    <tr>\n",
       "      <th>2012-10-03</th>\n",
       "      <td>GHCND:USW00024233</td>\n",
       "      <td>SEATTLE TACOMA INTERNATIONAL AIRPORT WA US</td>\n",
       "      <td>0</td>\n",
       "      <td>0</td>\n",
       "      <td>0</td>\n",
       "      <td>189</td>\n",
       "      <td>78</td>\n",
       "      <td>73</td>\n",
       "      <td>10</td>\n",
       "      <td>20</td>\n",
       "      <td>...</td>\n",
       "      <td>-9999</td>\n",
       "      <td>-9999</td>\n",
       "      <td>-9999</td>\n",
       "      <td>-9999</td>\n",
       "      <td>-9999</td>\n",
       "      <td>-9999</td>\n",
       "      <td>-9999</td>\n",
       "      <td>-9999</td>\n",
       "      <td>-9999</td>\n",
       "      <td>-9999</td>\n",
       "    </tr>\n",
       "    <tr>\n",
       "      <th>2012-10-04</th>\n",
       "      <td>GHCND:USW00024233</td>\n",
       "      <td>SEATTLE TACOMA INTERNATIONAL AIRPORT WA US</td>\n",
       "      <td>0</td>\n",
       "      <td>0</td>\n",
       "      <td>0</td>\n",
       "      <td>189</td>\n",
       "      <td>83</td>\n",
       "      <td>65</td>\n",
       "      <td>20</td>\n",
       "      <td>20</td>\n",
       "      <td>...</td>\n",
       "      <td>-9999</td>\n",
       "      <td>-9999</td>\n",
       "      <td>-9999</td>\n",
       "      <td>-9999</td>\n",
       "      <td>-9999</td>\n",
       "      <td>-9999</td>\n",
       "      <td>-9999</td>\n",
       "      <td>-9999</td>\n",
       "      <td>-9999</td>\n",
       "      <td>-9999</td>\n",
       "    </tr>\n",
       "    <tr>\n",
       "      <th>2012-10-05</th>\n",
       "      <td>GHCND:USW00024233</td>\n",
       "      <td>SEATTLE TACOMA INTERNATIONAL AIRPORT WA US</td>\n",
       "      <td>0</td>\n",
       "      <td>0</td>\n",
       "      <td>0</td>\n",
       "      <td>217</td>\n",
       "      <td>89</td>\n",
       "      <td>57</td>\n",
       "      <td>360</td>\n",
       "      <td>360</td>\n",
       "      <td>...</td>\n",
       "      <td>-9999</td>\n",
       "      <td>-9999</td>\n",
       "      <td>-9999</td>\n",
       "      <td>-9999</td>\n",
       "      <td>-9999</td>\n",
       "      <td>-9999</td>\n",
       "      <td>-9999</td>\n",
       "      <td>-9999</td>\n",
       "      <td>-9999</td>\n",
       "      <td>-9999</td>\n",
       "    </tr>\n",
       "  </tbody>\n",
       "</table>\n",
       "<p>5 rows × 23 columns</p>\n",
       "</div>"
      ],
      "text/plain": [
       "                      STATION                                STATION_NAME  \\\n",
       "DATE                                                                        \n",
       "2012-10-01  GHCND:USW00024233  SEATTLE TACOMA INTERNATIONAL AIRPORT WA US   \n",
       "2012-10-02  GHCND:USW00024233  SEATTLE TACOMA INTERNATIONAL AIRPORT WA US   \n",
       "2012-10-03  GHCND:USW00024233  SEATTLE TACOMA INTERNATIONAL AIRPORT WA US   \n",
       "2012-10-04  GHCND:USW00024233  SEATTLE TACOMA INTERNATIONAL AIRPORT WA US   \n",
       "2012-10-05  GHCND:USW00024233  SEATTLE TACOMA INTERNATIONAL AIRPORT WA US   \n",
       "\n",
       "            PRCP  SNWD  SNOW  TMAX  TMIN  AWND  WDF2  WDF5  ...   WT01  WT05  \\\n",
       "DATE                                                        ...                \n",
       "2012-10-01     0     0     0   233    89    30    40    30  ...  -9999 -9999   \n",
       "2012-10-02     0     0     0   178   100    41    10    20  ...  -9999 -9999   \n",
       "2012-10-03     0     0     0   189    78    73    10    20  ...  -9999 -9999   \n",
       "2012-10-04     0     0     0   189    83    65    20    20  ...  -9999 -9999   \n",
       "2012-10-05     0     0     0   217    89    57   360   360  ...  -9999 -9999   \n",
       "\n",
       "            WT02  WT22  WT04  WT13  WT16  WT08  WT18  WT03  \n",
       "DATE                                                        \n",
       "2012-10-01 -9999 -9999 -9999 -9999 -9999 -9999 -9999 -9999  \n",
       "2012-10-02 -9999 -9999 -9999 -9999 -9999 -9999 -9999 -9999  \n",
       "2012-10-03 -9999 -9999 -9999 -9999 -9999 -9999 -9999 -9999  \n",
       "2012-10-04 -9999 -9999 -9999 -9999 -9999 -9999 -9999 -9999  \n",
       "2012-10-05 -9999 -9999 -9999 -9999 -9999 -9999 -9999 -9999  \n",
       "\n",
       "[5 rows x 23 columns]"
      ]
     },
     "execution_count": 37,
     "metadata": {},
     "output_type": "execute_result"
    }
   ],
   "source": [
    "we.head()"
   ]
  },
  {
   "cell_type": "code",
   "execution_count": 38,
   "metadata": {
    "collapsed": true
   },
   "outputs": [],
   "source": [
    "%matplotlib inline"
   ]
  },
  {
   "cell_type": "code",
   "execution_count": 39,
   "metadata": {
    "collapsed": false
   },
   "outputs": [
    {
     "data": {
      "text/plain": [
       "<matplotlib.text.Text at 0x9226630>"
      ]
     },
     "execution_count": 39,
     "metadata": {},
     "output_type": "execute_result"
    },
    {
     "data": {
      "image/png": "[encoded data removed]",
      "text/plain": [
       "<matplotlib.figure.Figure at 0x91b6438>"
      ]
     },
     "metadata": {},
     "output_type": "display_data"
    }
   ],
   "source": [
    "plot1=we['PRCP'].plot()\n",
    "plot1.set_ylabel('PRCP')"
   ]
  },
  {
   "cell_type": "code",
   "execution_count": 40,
   "metadata": {
    "collapsed": false
   },
   "outputs": [
    {
     "data": {
      "text/plain": [
       "<matplotlib.text.Text at 0x92783c8>"
      ]
     },
     "execution_count": 40,
     "metadata": {},
     "output_type": "execute_result"
    },
    {
     "data": {
      "image/png": "[encoded data removed]",
      "text/plain": [
       "<matplotlib.figure.Figure at 0x92806a0>"
      ]
     },
     "metadata": {},
     "output_type": "display_data"
    }
   ],
   "source": [
    "plot2=we['TMAX'].plot()\n",
    "plot2.set_ylabel('TMAX')"
   ]
  },
  {
   "cell_type": "code",
   "execution_count": 41,
   "metadata": {
    "collapsed": false
   },
   "outputs": [
    {
     "data": {
      "text/plain": [
       "<matplotlib.text.Text at 0x92ece10>"
      ]
     },
     "execution_count": 41,
     "metadata": {},
     "output_type": "execute_result"
    },
    {
     "data": {
      "image/png": "[encoded data removed]",
      "text/plain": [
       "<matplotlib.figure.Figure at 0x92ddd30>"
      ]
     },
     "metadata": {},
     "output_type": "display_data"
    }
   ],
   "source": [
    "plot3=we['TMIN'].plot()\n",
    "plot3.set_ylabel('TMIN')"
   ]
  },
  {
   "cell_type": "code",
   "execution_count": 42,
   "metadata": {
    "collapsed": false
   },
   "outputs": [],
   "source": [
    "bidata=pd.read_csv('../data/4xy5-26gy.csv', parse_dates=[0])"
   ]
  },
  {
   "cell_type": "code",
   "execution_count": 43,
   "metadata": {
    "collapsed": true
   },
   "outputs": [],
   "source": [
    "bi=bidata.set_index(['date'])"
   ]
  },
  {
   "cell_type": "code",
   "execution_count": 44,
   "metadata": {
    "collapsed": false
   },
   "outputs": [
    {
     "data": {
      "text/html": [
       "<div>\n",
       "<table border=\"1\" class=\"dataframe\">\n",
       "  <thead>\n",
       "    <tr style=\"text-align: right;\">\n",
       "      <th></th>\n",
       "      <th>fremont_bridge_nb</th>\n",
       "      <th>fremont_bridge_sb</th>\n",
       "    </tr>\n",
       "    <tr>\n",
       "      <th>date</th>\n",
       "      <th></th>\n",
       "      <th></th>\n",
       "    </tr>\n",
       "  </thead>\n",
       "  <tbody>\n",
       "    <tr>\n",
       "      <th>2012-10-03 02:00:00</th>\n",
       "      <td>1</td>\n",
       "      <td>1</td>\n",
       "    </tr>\n",
       "    <tr>\n",
       "      <th>2012-10-05 01:00:00</th>\n",
       "      <td>4</td>\n",
       "      <td>4</td>\n",
       "    </tr>\n",
       "    <tr>\n",
       "      <th>2012-10-05 03:00:00</th>\n",
       "      <td>2</td>\n",
       "      <td>2</td>\n",
       "    </tr>\n",
       "    <tr>\n",
       "      <th>2012-10-05 23:00:00</th>\n",
       "      <td>16</td>\n",
       "      <td>16</td>\n",
       "    </tr>\n",
       "    <tr>\n",
       "      <th>2012-10-07 22:00:00</th>\n",
       "      <td>9</td>\n",
       "      <td>9</td>\n",
       "    </tr>\n",
       "  </tbody>\n",
       "</table>\n",
       "</div>"
      ],
      "text/plain": [
       "                     fremont_bridge_nb  fremont_bridge_sb\n",
       "date                                                     \n",
       "2012-10-03 02:00:00                  1                  1\n",
       "2012-10-05 01:00:00                  4                  4\n",
       "2012-10-05 03:00:00                  2                  2\n",
       "2012-10-05 23:00:00                 16                 16\n",
       "2012-10-07 22:00:00                  9                  9"
      ]
     },
     "execution_count": 44,
     "metadata": {},
     "output_type": "execute_result"
    }
   ],
   "source": [
    "bi.head()"
   ]
  },
  {
   "cell_type": "code",
   "execution_count": 45,
   "metadata": {
    "collapsed": false
   },
   "outputs": [],
   "source": [
    "bi=bi.resample('D', how='sum')"
   ]
  },
  {
   "cell_type": "code",
   "execution_count": 46,
   "metadata": {
    "collapsed": true
   },
   "outputs": [],
   "source": [
    "bi['fremont_total']=bi['fremont_bridge_nb']+bi['fremont_bridge_sb']"
   ]
  },
  {
   "cell_type": "code",
   "execution_count": 47,
   "metadata": {
    "collapsed": false
   },
   "outputs": [
    {
     "data": {
      "text/html": [
       "<div>\n",
       "<table border=\"1\" class=\"dataframe\">\n",
       "  <thead>\n",
       "    <tr style=\"text-align: right;\">\n",
       "      <th></th>\n",
       "      <th>fremont_bridge_nb</th>\n",
       "      <th>fremont_bridge_sb</th>\n",
       "      <th>fremont_total</th>\n",
       "    </tr>\n",
       "    <tr>\n",
       "      <th>date</th>\n",
       "      <th></th>\n",
       "      <th></th>\n",
       "      <th></th>\n",
       "    </tr>\n",
       "  </thead>\n",
       "  <tbody>\n",
       "    <tr>\n",
       "      <th>2012-10-03</th>\n",
       "      <td>1</td>\n",
       "      <td>1</td>\n",
       "      <td>2</td>\n",
       "    </tr>\n",
       "    <tr>\n",
       "      <th>2012-10-04</th>\n",
       "      <td>NaN</td>\n",
       "      <td>NaN</td>\n",
       "      <td>NaN</td>\n",
       "    </tr>\n",
       "    <tr>\n",
       "      <th>2012-10-05</th>\n",
       "      <td>22</td>\n",
       "      <td>22</td>\n",
       "      <td>44</td>\n",
       "    </tr>\n",
       "    <tr>\n",
       "      <th>2012-10-06</th>\n",
       "      <td>NaN</td>\n",
       "      <td>NaN</td>\n",
       "      <td>NaN</td>\n",
       "    </tr>\n",
       "    <tr>\n",
       "      <th>2012-10-07</th>\n",
       "      <td>9</td>\n",
       "      <td>9</td>\n",
       "      <td>18</td>\n",
       "    </tr>\n",
       "  </tbody>\n",
       "</table>\n",
       "</div>"
      ],
      "text/plain": [
       "            fremont_bridge_nb  fremont_bridge_sb  fremont_total\n",
       "date                                                           \n",
       "2012-10-03                  1                  1              2\n",
       "2012-10-04                NaN                NaN            NaN\n",
       "2012-10-05                 22                 22             44\n",
       "2012-10-06                NaN                NaN            NaN\n",
       "2012-10-07                  9                  9             18"
      ]
     },
     "execution_count": 47,
     "metadata": {},
     "output_type": "execute_result"
    }
   ],
   "source": [
    "bi.head()"
   ]
  },
  {
   "cell_type": "code",
   "execution_count": 48,
   "metadata": {
    "collapsed": false
   },
   "outputs": [
    {
     "data": {
      "text/plain": [
       "<matplotlib.axes._subplots.AxesSubplot at 0x9302128>"
      ]
     },
     "execution_count": 48,
     "metadata": {},
     "output_type": "execute_result"
    },
    {
     "data": {
      "image/png": "[encoded data removed]",
      "text/plain": [
       "<matplotlib.figure.Figure at 0xa336a58>"
      ]
     },
     "metadata": {},
     "output_type": "display_data"
    }
   ],
   "source": [
    "bi['fremont_total'].plot()"
   ]
  },
  {
   "cell_type": "code",
   "execution_count": 49,
   "metadata": {
    "collapsed": false
   },
   "outputs": [],
   "source": [
    "bi=bi.join(we)"
   ]
  },
  {
   "cell_type": "code",
   "execution_count": 50,
   "metadata": {
    "collapsed": false
   },
   "outputs": [
    {
     "data": {
      "text/html": [
       "<div>\n",
       "<table border=\"1\" class=\"dataframe\">\n",
       "  <thead>\n",
       "    <tr style=\"text-align: right;\">\n",
       "      <th></th>\n",
       "      <th>fremont_bridge_nb</th>\n",
       "      <th>fremont_bridge_sb</th>\n",
       "      <th>fremont_total</th>\n",
       "      <th>STATION</th>\n",
       "      <th>STATION_NAME</th>\n",
       "      <th>PRCP</th>\n",
       "      <th>SNWD</th>\n",
       "      <th>SNOW</th>\n",
       "      <th>TMAX</th>\n",
       "      <th>TMIN</th>\n",
       "      <th>...</th>\n",
       "      <th>WT01</th>\n",
       "      <th>WT05</th>\n",
       "      <th>WT02</th>\n",
       "      <th>WT22</th>\n",
       "      <th>WT04</th>\n",
       "      <th>WT13</th>\n",
       "      <th>WT16</th>\n",
       "      <th>WT08</th>\n",
       "      <th>WT18</th>\n",
       "      <th>WT03</th>\n",
       "    </tr>\n",
       "    <tr>\n",
       "      <th>date</th>\n",
       "      <th></th>\n",
       "      <th></th>\n",
       "      <th></th>\n",
       "      <th></th>\n",
       "      <th></th>\n",
       "      <th></th>\n",
       "      <th></th>\n",
       "      <th></th>\n",
       "      <th></th>\n",
       "      <th></th>\n",
       "      <th></th>\n",
       "      <th></th>\n",
       "      <th></th>\n",
       "      <th></th>\n",
       "      <th></th>\n",
       "      <th></th>\n",
       "      <th></th>\n",
       "      <th></th>\n",
       "      <th></th>\n",
       "      <th></th>\n",
       "      <th></th>\n",
       "    </tr>\n",
       "  </thead>\n",
       "  <tbody>\n",
       "    <tr>\n",
       "      <th>2012-10-03</th>\n",
       "      <td>1</td>\n",
       "      <td>1</td>\n",
       "      <td>2</td>\n",
       "      <td>GHCND:USW00024233</td>\n",
       "      <td>SEATTLE TACOMA INTERNATIONAL AIRPORT WA US</td>\n",
       "      <td>0</td>\n",
       "      <td>0</td>\n",
       "      <td>0</td>\n",
       "      <td>189</td>\n",
       "      <td>78</td>\n",
       "      <td>...</td>\n",
       "      <td>-9999</td>\n",
       "      <td>-9999</td>\n",
       "      <td>-9999</td>\n",
       "      <td>-9999</td>\n",
       "      <td>-9999</td>\n",
       "      <td>-9999</td>\n",
       "      <td>-9999</td>\n",
       "      <td>-9999</td>\n",
       "      <td>-9999</td>\n",
       "      <td>-9999</td>\n",
       "    </tr>\n",
       "    <tr>\n",
       "      <th>2012-10-04</th>\n",
       "      <td>NaN</td>\n",
       "      <td>NaN</td>\n",
       "      <td>NaN</td>\n",
       "      <td>GHCND:USW00024233</td>\n",
       "      <td>SEATTLE TACOMA INTERNATIONAL AIRPORT WA US</td>\n",
       "      <td>0</td>\n",
       "      <td>0</td>\n",
       "      <td>0</td>\n",
       "      <td>189</td>\n",
       "      <td>83</td>\n",
       "      <td>...</td>\n",
       "      <td>-9999</td>\n",
       "      <td>-9999</td>\n",
       "      <td>-9999</td>\n",
       "      <td>-9999</td>\n",
       "      <td>-9999</td>\n",
       "      <td>-9999</td>\n",
       "      <td>-9999</td>\n",
       "      <td>-9999</td>\n",
       "      <td>-9999</td>\n",
       "      <td>-9999</td>\n",
       "    </tr>\n",
       "    <tr>\n",
       "      <th>2012-10-05</th>\n",
       "      <td>22</td>\n",
       "      <td>22</td>\n",
       "      <td>44</td>\n",
       "      <td>GHCND:USW00024233</td>\n",
       "      <td>SEATTLE TACOMA INTERNATIONAL AIRPORT WA US</td>\n",
       "      <td>0</td>\n",
       "      <td>0</td>\n",
       "      <td>0</td>\n",
       "      <td>217</td>\n",
       "      <td>89</td>\n",
       "      <td>...</td>\n",
       "      <td>-9999</td>\n",
       "      <td>-9999</td>\n",
       "      <td>-9999</td>\n",
       "      <td>-9999</td>\n",
       "      <td>-9999</td>\n",
       "      <td>-9999</td>\n",
       "      <td>-9999</td>\n",
       "      <td>-9999</td>\n",
       "      <td>-9999</td>\n",
       "      <td>-9999</td>\n",
       "    </tr>\n",
       "    <tr>\n",
       "      <th>2012-10-06</th>\n",
       "      <td>NaN</td>\n",
       "      <td>NaN</td>\n",
       "      <td>NaN</td>\n",
       "      <td>GHCND:USW00024233</td>\n",
       "      <td>SEATTLE TACOMA INTERNATIONAL AIRPORT WA US</td>\n",
       "      <td>0</td>\n",
       "      <td>0</td>\n",
       "      <td>0</td>\n",
       "      <td>239</td>\n",
       "      <td>78</td>\n",
       "      <td>...</td>\n",
       "      <td>-9999</td>\n",
       "      <td>-9999</td>\n",
       "      <td>-9999</td>\n",
       "      <td>-9999</td>\n",
       "      <td>-9999</td>\n",
       "      <td>-9999</td>\n",
       "      <td>-9999</td>\n",
       "      <td>-9999</td>\n",
       "      <td>-9999</td>\n",
       "      <td>-9999</td>\n",
       "    </tr>\n",
       "    <tr>\n",
       "      <th>2012-10-07</th>\n",
       "      <td>9</td>\n",
       "      <td>9</td>\n",
       "      <td>18</td>\n",
       "      <td>GHCND:USW00024233</td>\n",
       "      <td>SEATTLE TACOMA INTERNATIONAL AIRPORT WA US</td>\n",
       "      <td>0</td>\n",
       "      <td>0</td>\n",
       "      <td>0</td>\n",
       "      <td>239</td>\n",
       "      <td>78</td>\n",
       "      <td>...</td>\n",
       "      <td>-9999</td>\n",
       "      <td>-9999</td>\n",
       "      <td>-9999</td>\n",
       "      <td>-9999</td>\n",
       "      <td>-9999</td>\n",
       "      <td>-9999</td>\n",
       "      <td>-9999</td>\n",
       "      <td>-9999</td>\n",
       "      <td>-9999</td>\n",
       "      <td>-9999</td>\n",
       "    </tr>\n",
       "  </tbody>\n",
       "</table>\n",
       "<p>5 rows × 26 columns</p>\n",
       "</div>"
      ],
      "text/plain": [
       "            fremont_bridge_nb  fremont_bridge_sb  fremont_total  \\\n",
       "date                                                              \n",
       "2012-10-03                  1                  1              2   \n",
       "2012-10-04                NaN                NaN            NaN   \n",
       "2012-10-05                 22                 22             44   \n",
       "2012-10-06                NaN                NaN            NaN   \n",
       "2012-10-07                  9                  9             18   \n",
       "\n",
       "                      STATION                                STATION_NAME  \\\n",
       "date                                                                        \n",
       "2012-10-03  GHCND:USW00024233  SEATTLE TACOMA INTERNATIONAL AIRPORT WA US   \n",
       "2012-10-04  GHCND:USW00024233  SEATTLE TACOMA INTERNATIONAL AIRPORT WA US   \n",
       "2012-10-05  GHCND:USW00024233  SEATTLE TACOMA INTERNATIONAL AIRPORT WA US   \n",
       "2012-10-06  GHCND:USW00024233  SEATTLE TACOMA INTERNATIONAL AIRPORT WA US   \n",
       "2012-10-07  GHCND:USW00024233  SEATTLE TACOMA INTERNATIONAL AIRPORT WA US   \n",
       "\n",
       "            PRCP  SNWD  SNOW  TMAX  TMIN  ...   WT01  WT05  WT02  WT22  WT04  \\\n",
       "date                                      ...                                  \n",
       "2012-10-03     0     0     0   189    78  ...  -9999 -9999 -9999 -9999 -9999   \n",
       "2012-10-04     0     0     0   189    83  ...  -9999 -9999 -9999 -9999 -9999   \n",
       "2012-10-05     0     0     0   217    89  ...  -9999 -9999 -9999 -9999 -9999   \n",
       "2012-10-06     0     0     0   239    78  ...  -9999 -9999 -9999 -9999 -9999   \n",
       "2012-10-07     0     0     0   239    78  ...  -9999 -9999 -9999 -9999 -9999   \n",
       "\n",
       "            WT13  WT16  WT08  WT18  WT03  \n",
       "date                                      \n",
       "2012-10-03 -9999 -9999 -9999 -9999 -9999  \n",
       "2012-10-04 -9999 -9999 -9999 -9999 -9999  \n",
       "2012-10-05 -9999 -9999 -9999 -9999 -9999  \n",
       "2012-10-06 -9999 -9999 -9999 -9999 -9999  \n",
       "2012-10-07 -9999 -9999 -9999 -9999 -9999  \n",
       "\n",
       "[5 rows x 26 columns]"
      ]
     },
     "execution_count": 50,
     "metadata": {},
     "output_type": "execute_result"
    }
   ],
   "source": [
    "bi.head()"
   ]
  },
  {
   "cell_type": "code",
   "execution_count": 51,
   "metadata": {
    "collapsed": false
   },
   "outputs": [
    {
     "data": {
      "text/plain": [
       "<matplotlib.axes._subplots.AxesSubplot at 0x9274550>"
      ]
     },
     "execution_count": 51,
     "metadata": {},
     "output_type": "execute_result"
    },
    {
     "data": {
      "image/png": "[encoded data removed]",
      "text/plain": [
       "<matplotlib.figure.Figure at 0xa3caef0>"
      ]
     },
     "metadata": {},
     "output_type": "display_data"
    }
   ],
   "source": [
    "bi.plot(kind='scatter', x='TMAX', y='fremont_total')"
   ]
  },
  {
   "cell_type": "markdown",
   "metadata": {},
   "source": [
    "It is shown the trend that with higher maximum temperature, number of rides becomes larger. It seems that people like riding in warm and hot days."
   ]
  },
  {
   "cell_type": "code",
   "execution_count": 52,
   "metadata": {
    "collapsed": false
   },
   "outputs": [
    {
     "data": {
      "text/plain": [
       "<matplotlib.axes._subplots.AxesSubplot at 0xa372048>"
      ]
     },
     "execution_count": 52,
     "metadata": {},
     "output_type": "execute_result"
    },
    {
     "data": {
      "image/png": "[encoded data removed]",
      "text/plain": [
       "<matplotlib.figure.Figure at 0xa41d240>"
      ]
     },
     "metadata": {},
     "output_type": "display_data"
    }
   ],
   "source": [
    "bi.plot(kind='scatter', x='TMIN', y='fremont_total')"
   ]
  },
  {
   "cell_type": "markdown",
   "metadata": {},
   "source": [
    "We got quite the same conclusion with the TMAX figure that people like to ride in warm and hot days, and the number of rides decreases sharply when the TMIN drop from 140 to 120."
   ]
  },
  {
   "cell_type": "code",
   "execution_count": 53,
   "metadata": {
    "collapsed": false
   },
   "outputs": [
    {
     "data": {
      "text/plain": [
       "<matplotlib.axes._subplots.AxesSubplot at 0xa456710>"
      ]
     },
     "execution_count": 53,
     "metadata": {},
     "output_type": "execute_result"
    },
    {
     "data": {
      "image/png": "[encoded data removed]",
      "text/plain": [
       "<matplotlib.figure.Figure at 0xa488400>"
      ]
     },
     "metadata": {},
     "output_type": "display_data"
    }
   ],
   "source": [
    "bi.plot(kind='scatter', x='PRCP', y='fremont_total')"
   ]
  },
  {
   "cell_type": "markdown",
   "metadata": {},
   "source": [
    "It is shown rides are quite few when the precipitation is not 0."
   ]
  },
  {
   "cell_type": "code",
   "execution_count": 54,
   "metadata": {
    "collapsed": false
   },
   "outputs": [
    {
     "data": {
      "text/plain": [
       "<matplotlib.text.Text at 0xa47b8d0>"
      ]
     },
     "execution_count": 54,
     "metadata": {},
     "output_type": "execute_result"
    },
    {
     "data": {
      "image/png": "[encoded data removed]",
      "text/plain": [
       "<matplotlib.figure.Figure at 0xa4cb6a0>"
      ]
     },
     "metadata": {},
     "output_type": "display_data"
    }
   ],
   "source": [
    "p1=bi.plot(kind='scatter', x='SNOW', y='fremont_total')\n",
    "p1.set_xlabel('Snowfall')"
   ]
  },
  {
   "cell_type": "markdown",
   "metadata": {},
   "source": [
    "There is not much sense for tha figure of snowfall since it never snows in this area."
   ]
  },
  {
   "cell_type": "code",
   "execution_count": 55,
   "metadata": {
    "collapsed": false
   },
   "outputs": [
    {
     "data": {
      "text/plain": [
       "<matplotlib.text.Text at 0xa4d18d0>"
      ]
     },
     "execution_count": 55,
     "metadata": {},
     "output_type": "execute_result"
    },
    {
     "data": {
      "image/png": "[encoded data removed]",
      "text/plain": [
       "<matplotlib.figure.Figure at 0xa58c748>"
      ]
     },
     "metadata": {},
     "output_type": "display_data"
    }
   ],
   "source": [
    "p1=bi.plot(kind='scatter', x='SNWD', y='fremont_total')\n",
    "p1.set_xlabel('SnowDepth')"
   ]
  },
  {
   "cell_type": "code",
   "execution_count": 56,
   "metadata": {
    "collapsed": false
   },
   "outputs": [
    {
     "data": {
      "text/plain": [
       "<matplotlib.text.Text at 0xa598c50>"
      ]
     },
     "execution_count": 56,
     "metadata": {},
     "output_type": "execute_result"
    },
    {
     "data": {
      "image/png": "[encoded data removed]",
      "text/plain": [
       "<matplotlib.figure.Figure at 0xa5e5160>"
      ]
     },
     "metadata": {},
     "output_type": "display_data"
    }
   ],
   "source": [
    "p1=bi.plot(kind='scatter', x='AWND', y='fremont_total')\n",
    "p1.set_xlabel('AverageDailyWindSpeed')"
   ]
  },
  {
   "cell_type": "markdown",
   "metadata": {},
   "source": [
    "It is shown that large number of rides happen when the wind is not strong."
   ]
  },
  {
   "cell_type": "code",
   "execution_count": 57,
   "metadata": {
    "collapsed": false
   },
   "outputs": [
    {
     "data": {
      "text/plain": [
       "<matplotlib.text.Text at 0xa604c88>"
      ]
     },
     "execution_count": 57,
     "metadata": {},
     "output_type": "execute_result"
    },
    {
     "data": {
      "image/png": "[encoded data removed]",
      "text/plain": [
       "<matplotlib.figure.Figure at 0xa64f7f0>"
      ]
     },
     "metadata": {},
     "output_type": "display_data"
    }
   ],
   "source": [
    "p1=bi.plot(kind='scatter', x='WDF2', y='fremont_total')\n",
    "p1.set_xlabel('DirectionOfFastest1mWind(degrees)')"
   ]
  },
  {
   "cell_type": "code",
   "execution_count": 58,
   "metadata": {
    "collapsed": false
   },
   "outputs": [
    {
     "data": {
      "text/plain": [
       "<matplotlib.text.Text at 0xa5df780>"
      ]
     },
     "execution_count": 58,
     "metadata": {},
     "output_type": "execute_result"
    },
    {
     "data": {
      "image/png": "[encoded data removed]",
      "text/plain": [
       "<matplotlib.figure.Figure at 0xa6aef60>"
      ]
     },
     "metadata": {},
     "output_type": "display_data"
    }
   ],
   "source": [
    "p1=bi.plot(kind='scatter', x='WDF5', y='fremont_total')\n",
    "p1.set_xlabel('DirectionOfFastest5sWind(degrees)')"
   ]
  },
  {
   "cell_type": "markdown",
   "metadata": {},
   "source": [
    "Since there is a data point with WDF5=-9999, we cannot see much information from this figure. We should get rid of the -9999 data point to get a good figure."
   ]
  },
  {
   "cell_type": "code",
   "execution_count": 59,
   "metadata": {
    "collapsed": false
   },
   "outputs": [
    {
     "data": {
      "text/plain": [
       "<matplotlib.text.Text at 0xa695c88>"
      ]
     },
     "execution_count": 59,
     "metadata": {},
     "output_type": "execute_result"
    },
    {
     "data": {
      "image/png": "[encoded data removed]",
      "text/plain": [
       "<matplotlib.figure.Figure at 0xa6b18d0>"
      ]
     },
     "metadata": {},
     "output_type": "display_data"
    }
   ],
   "source": [
    "p1=bi.plot(kind='scatter', x='WSF2', y='fremont_total')\n",
    "p1.set_xlabel('Fastest2mWindSpeed')"
   ]
  },
  {
   "cell_type": "markdown",
   "metadata": {},
   "source": [
    "The pattern here is similar to that from the AverageDailyWindSpeed that few rides happen with high wind speed."
   ]
  },
  {
   "cell_type": "code",
   "execution_count": 60,
   "metadata": {
    "collapsed": false
   },
   "outputs": [
    {
     "data": {
      "text/plain": [
       "<matplotlib.text.Text at 0xa715fd0>"
      ]
     },
     "execution_count": 60,
     "metadata": {},
     "output_type": "execute_result"
    },
    {
     "data": {
      "image/png": "[encoded data removed]",
      "text/plain": [
       "<matplotlib.figure.Figure at 0xa78c438>"
      ]
     },
     "metadata": {},
     "output_type": "display_data"
    }
   ],
   "source": [
    "p1=bi.plot(kind='scatter', x='WSF5', y='fremont_total')\n",
    "p1.set_xlabel('Fastest5sWindSpeed')"
   ]
  },
  {
   "cell_type": "code",
   "execution_count": 61,
   "metadata": {
    "collapsed": false
   },
   "outputs": [
    {
     "data": {
      "text/plain": [
       "<matplotlib.text.Text at 0xa7a3cf8>"
      ]
     },
     "execution_count": 61,
     "metadata": {},
     "output_type": "execute_result"
    },
    {
     "data": {
      "image/png": "[encoded data removed]",
      "text/plain": [
       "<matplotlib.figure.Figure at 0xa7a0128>"
      ]
     },
     "metadata": {},
     "output_type": "display_data"
    }
   ],
   "source": [
    "p1=bi.plot(kind='scatter', x='WT14', y='fremont_total')\n",
    "p1.set_xlabel('Drizzle')"
   ]
  },
  {
   "cell_type": "markdown",
   "metadata": {
    "collapsed": true
   },
   "source": [
    "There are much less rides(almost no rides) when there is drizzle in the day than that when there is no drizzle."
   ]
  },
  {
   "cell_type": "markdown",
   "metadata": {},
   "source": [
    "In addition to weather, there are other factors influencing the rides. The number of traffic accidents on or near the fremont bridge, and road traffic of the car may influence the number of rides. When the car traffic is really bad due to accidents aroung the area or other reasons, more poeple may choose to ride across the bridge rather than driving. Additionally, the day of week may also has an impact on the number of rides. More rides may happen on Friday, Saturday and Sunday since more people are travelling for the weenkend. The rides may increase similarly during holidays. "
   ]
  }
 ],
 "metadata": {
  "kernelspec": {
   "display_name": "Python 3",
   "language": "python",
   "name": "python3"
  },
  "language_info": {
   "codemirror_mode": {
    "name": "ipython",
    "version": 3
   },
   "file_extension": ".py",
   "mimetype": "text/x-python",
   "name": "python",
   "nbconvert_exporter": "python",
   "pygments_lexer": "ipython3",
   "version": "3.5.1"
  }
 },
 "nbformat": 4,
 "nbformat_minor": 0
}
